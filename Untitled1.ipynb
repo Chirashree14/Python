{
  "nbformat": 4,
  "nbformat_minor": 0,
  "metadata": {
    "colab": {
      "provenance": [],
      "authorship_tag": "ABX9TyMcVaun+gYxItwHAWuCB/D8",
      "include_colab_link": true
    },
    "kernelspec": {
      "name": "python3",
      "display_name": "Python 3"
    },
    "language_info": {
      "name": "python"
    }
  },
  "cells": [
    {
      "cell_type": "markdown",
      "metadata": {
        "id": "view-in-github",
        "colab_type": "text"
      },
      "source": [
        "<a href=\"https://colab.research.google.com/github/Chirashree14/Python/blob/main/Untitled1.ipynb\" target=\"_parent\"><img src=\"https://colab.research.google.com/assets/colab-badge.svg\" alt=\"Open In Colab\"/></a>"
      ]
    },
    {
      "cell_type": "code",
      "execution_count": null,
      "metadata": {
        "id": "EwEkqoimT97P"
      },
      "outputs": [],
      "source": []
    },
    {
      "cell_type": "code",
      "source": [
        "a = 3\n",
        "b = 2.45\n",
        "c = \"Jhilik\"\n",
        "print(a,b,c)\n",
        "print(type(a))\n",
        "print(type(b))\n",
        "print(type(c))"
      ],
      "metadata": {
        "colab": {
          "base_uri": "https://localhost:8080/"
        },
        "id": "Vlw6Z-FqV8iP",
        "outputId": "41084566-1dca-4d37-d2da-527348f3a3c1"
      },
      "execution_count": null,
      "outputs": [
        {
          "output_type": "stream",
          "name": "stdout",
          "text": [
            "3 2.45 Jhilik\n",
            "<class 'int'>\n",
            "<class 'float'>\n",
            "<class 'str'>\n"
          ]
        }
      ]
    },
    {
      "cell_type": "code",
      "source": [
        "#Operators\n",
        "#arithmetic Operators(+,-,*,/)\n",
        "#Comparison Operator(==, <=, >=, !=)\n",
        "#Assignment operator(+=, -=, *=, /=)\n",
        "#Addition of two numbers using user input function\n",
        "a = int(input(\"Enter a value\"))\n",
        "b = int(input(\"Enter b value\"))\n",
        "print(a+b)\n",
        "print(a-b)\n",
        "print(a*b)\n",
        "print(a/b)"
      ],
      "metadata": {
        "colab": {
          "base_uri": "https://localhost:8080/"
        },
        "id": "zzrvESQXWZk3",
        "outputId": "af8e113a-d028-4ab9-f502-bbdf1b5bf423"
      },
      "execution_count": null,
      "outputs": [
        {
          "output_type": "stream",
          "name": "stdout",
          "text": [
            "Enter a value3\n",
            "Enter b value4\n",
            "7\n",
            "-1\n",
            "12\n",
            "0.75\n"
          ]
        }
      ]
    },
    {
      "cell_type": "code",
      "source": [
        "# Wap to calculate the area of a circle\n",
        "r = int(input(\"Enter the radius of the circle\"))\n",
        "A = 3.14 * r*r\n",
        "print(\"Area of the circle is : \",A)"
      ],
      "metadata": {
        "colab": {
          "base_uri": "https://localhost:8080/"
        },
        "id": "1HEpJ0zwf7DJ",
        "outputId": "6101a228-0ea6-4fec-c681-40b7a77c4d56"
      },
      "execution_count": null,
      "outputs": [
        {
          "output_type": "stream",
          "name": "stdout",
          "text": [
            "Enter the radius of the circle3\n",
            "Area of the circle is :  28.259999999999998\n"
          ]
        }
      ]
    },
    {
      "cell_type": "code",
      "source": [
        "#Wap to calculate the temperature value from celcious to farenhite\n",
        "Celcious = float(input(\"Enter the value of the temperature in Celcious: \"))\n",
        "Fahrenheite = (Celcious * 9/5) + 32\n",
        "print(f\"{Celcious} degree Centigrade is equal to {Fahrenheite} degree fahrenheite\")\n",
        "\n",
        "\n"
      ],
      "metadata": {
        "colab": {
          "base_uri": "https://localhost:8080/"
        },
        "id": "C7cUaV7DhHjC",
        "outputId": "a951bfb8-a1f0-4c55-ac2f-1cb982bde24e"
      },
      "execution_count": null,
      "outputs": [
        {
          "output_type": "stream",
          "name": "stdout",
          "text": [
            "Enter the value of the temperature in Celcious: 32\n",
            "32.0degree Centigrade is equal to 89.6degree fahrenheite\n"
          ]
        }
      ]
    },
    {
      "cell_type": "code",
      "source": [
        "#Wap to calculate the simple interest of a principle amount\n",
        "P = float(input(\"Enter the Principle amount:\"))\n",
        "r = float(input(\"Enter the rate: \"))\n",
        "t = float(input(\"Enter the time : \"))\n",
        "simpleInterest = ( P * r * t ) / 100\n",
        "print(f\"Simple Interest of the principle amount is : {simpleInterest}\")\n"
      ],
      "metadata": {
        "colab": {
          "base_uri": "https://localhost:8080/"
        },
        "id": "O1k5f6psklPK",
        "outputId": "4f262f50-6553-4a9f-f38e-cf8105bbd1bf"
      },
      "execution_count": null,
      "outputs": [
        {
          "output_type": "stream",
          "name": "stdout",
          "text": [
            "Enter the Principle amount:400\n",
            "Enter the rate: 2\n",
            "Enter the time : 2\n",
            "Simple Interest of the principle amount is : 16.0\n"
          ]
        }
      ]
    },
    {
      "cell_type": "code",
      "source": [],
      "metadata": {
        "id": "JiXXzD6uNQbz"
      },
      "execution_count": null,
      "outputs": []
    },
    {
      "cell_type": "markdown",
      "source": [],
      "metadata": {
        "id": "ml-UMjNaL4AR"
      }
    },
    {
      "cell_type": "code",
      "source": [
        "# Input values\n",
        "principal = float(input(\"Enter the principal amount: \"))\n",
        "rate = float(input(\"Enter the rate of interest: \"))\n",
        "time = float(input(\"Enter the time period in years: \"))\n",
        "\n",
        "# Calculate simple interest\n",
        "simple_interest = (principal * rate * time) / 100\n",
        "\n",
        "# Output the result\n",
        "print(f\"The simple interest is: {simple_interest}\")\n"
      ],
      "metadata": {
        "id": "yk7cW1tWkboS",
        "colab": {
          "base_uri": "https://localhost:8080/"
        },
        "outputId": "c7ab659c-f305-4988-afcd-0dbfb26911f8"
      },
      "execution_count": null,
      "outputs": [
        {
          "output_type": "stream",
          "name": "stdout",
          "text": [
            "Enter the principal amount: 400\n",
            "Enter the rate of interest: 2\n",
            "Enter the time period in years: 2\n",
            "The simple interest is: 16.0\n"
          ]
        }
      ]
    },
    {
      "cell_type": "code",
      "source": [
        "#List\n",
        "a =[2,3.4,True,9j,'python']\n",
        "print(a)\n",
        "print(type(a))\n",
        "print(len(a))"
      ],
      "metadata": {
        "colab": {
          "base_uri": "https://localhost:8080/"
        },
        "id": "jDA6g6VhOHcq",
        "outputId": "9a87999b-89d1-4aa2-cb95-965ecb04db2f"
      },
      "execution_count": null,
      "outputs": [
        {
          "output_type": "stream",
          "name": "stdout",
          "text": [
            "[2, 3.4, True, 9j, 'python']\n",
            "<class 'list'>\n",
            "5\n"
          ]
        }
      ]
    },
    {
      "cell_type": "code",
      "source": [
        "#modify the item value on list\n",
        "a[4] = False\n",
        "print(a)\n",
        "a[-2] = 'Java'\n",
        "print(a)\n"
      ],
      "metadata": {
        "colab": {
          "base_uri": "https://localhost:8080/"
        },
        "id": "Qhh9nwDwQW6q",
        "outputId": "3a58063c-1dfe-4966-c969-283aa9daa21f"
      },
      "execution_count": null,
      "outputs": [
        {
          "output_type": "stream",
          "name": "stdout",
          "text": [
            "[2, 3.4, True, 9j, False]\n",
            "[2, 3.4, True, 'Java', False]\n"
          ]
        }
      ]
    },
    {
      "cell_type": "code",
      "source": [
        "#add new item on list- append function\n",
        "a.append(\"Hello World\")\n",
        "print(a)"
      ],
      "metadata": {
        "colab": {
          "base_uri": "https://localhost:8080/"
        },
        "id": "vWDLqLyzR7mZ",
        "outputId": "e821730b-4a70-419e-d298-4adb2761e2e9"
      },
      "execution_count": null,
      "outputs": [
        {
          "output_type": "stream",
          "name": "stdout",
          "text": [
            "[2, 3.4, True, 'Java', False, 'Hello World']\n"
          ]
        }
      ]
    },
    {
      "cell_type": "code",
      "source": [
        "#Eliminate any data in list - remove & pop\n",
        "a.remove(False)\n",
        "print(a)"
      ],
      "metadata": {
        "colab": {
          "base_uri": "https://localhost:8080/"
        },
        "id": "4kazoGJISouv",
        "outputId": "67d2cd6a-9192-46fa-fa3b-a89389ba5505"
      },
      "execution_count": null,
      "outputs": [
        {
          "output_type": "stream",
          "name": "stdout",
          "text": [
            "[2, 3.4, True, 'Java', 'Hello World']\n"
          ]
        }
      ]
    },
    {
      "cell_type": "code",
      "source": [
        "a.pop(2)\n",
        "print(a)"
      ],
      "metadata": {
        "colab": {
          "base_uri": "https://localhost:8080/"
        },
        "id": "A32McGriTQZ2",
        "outputId": "efb79b9c-98e2-4b88-e53d-ca268c5e2990"
      },
      "execution_count": null,
      "outputs": [
        {
          "output_type": "stream",
          "name": "stdout",
          "text": [
            "[2, 3.4, 'Java', 'Hello World']\n"
          ]
        }
      ]
    },
    {
      "cell_type": "code",
      "source": [
        "b = [2,9,4,1,6,3,5]\n",
        "b.sort()\n",
        "print(b)"
      ],
      "metadata": {
        "colab": {
          "base_uri": "https://localhost:8080/"
        },
        "id": "O1cFw9uPTsKm",
        "outputId": "8a354aa8-0446-42a0-d9a6-9742afb62c96"
      },
      "execution_count": null,
      "outputs": [
        {
          "output_type": "stream",
          "name": "stdout",
          "text": [
            "[1, 2, 3, 4, 5, 6, 9]\n"
          ]
        }
      ]
    },
    {
      "cell_type": "code",
      "source": [
        "b.sort(reverse = True)\n",
        "print(b)"
      ],
      "metadata": {
        "colab": {
          "base_uri": "https://localhost:8080/"
        },
        "id": "DbZf0HaMUmn3",
        "outputId": "4a4f4143-4b18-4258-9ee1-3902153769d1"
      },
      "execution_count": null,
      "outputs": [
        {
          "output_type": "stream",
          "name": "stdout",
          "text": [
            "[9, 6, 5, 4, 3, 2, 1]\n"
          ]
        }
      ]
    },
    {
      "cell_type": "code",
      "source": [],
      "metadata": {
        "id": "4DCmpVeMU9_V"
      },
      "execution_count": null,
      "outputs": []
    },
    {
      "cell_type": "code",
      "source": [
        "b.sort(reverse = False)\n",
        "print(b)"
      ],
      "metadata": {
        "colab": {
          "base_uri": "https://localhost:8080/"
        },
        "id": "JVaKwWE3UyXx",
        "outputId": "3242d783-63a7-4706-d499-212e6005e792"
      },
      "execution_count": null,
      "outputs": [
        {
          "output_type": "stream",
          "name": "stdout",
          "text": [
            "[1, 2, 3, 4, 5, 6, 9]\n"
          ]
        }
      ]
    },
    {
      "cell_type": "code",
      "source": [
        "b.clear()\n",
        "print(b)"
      ],
      "metadata": {
        "colab": {
          "base_uri": "https://localhost:8080/"
        },
        "id": "6mFR_X-bWFej",
        "outputId": "a397be3b-6018-458f-d103-a1a90bd642b1"
      },
      "execution_count": null,
      "outputs": [
        {
          "output_type": "stream",
          "name": "stdout",
          "text": [
            "[]\n"
          ]
        }
      ]
    },
    {
      "cell_type": "code",
      "source": [
        "#Create a list & find the maximum number on a list\n",
        "z = [232, 454, 347, 963, 656,492, 433, 563]\n",
        "print(type(z))\n",
        "print(z)\n",
        "z.sort()\n",
        "print(z)\n",
        "print(z[-1])\n",
        "z.sort(reverse = False)\n",
        "print(z)\n",
        "print(f\"The maximum number on the list is : {z[-1]}\")\n"
      ],
      "metadata": {
        "colab": {
          "base_uri": "https://localhost:8080/"
        },
        "id": "cwKujHqBWTlO",
        "outputId": "fcdf573f-7a57-4dfc-d83d-2be622502709"
      },
      "execution_count": null,
      "outputs": [
        {
          "output_type": "stream",
          "name": "stdout",
          "text": [
            "<class 'list'>\n",
            "[232, 454, 347, 963, 656, 492, 433, 563]\n",
            "[232, 347, 433, 454, 492, 563, 656, 963]\n",
            "963\n",
            "[232, 347, 433, 454, 492, 563, 656, 963]\n",
            "The maximum number on the list is : 963\n"
          ]
        }
      ]
    },
    {
      "cell_type": "code",
      "source": [
        "#Tuple\n",
        "tuple1 = (2,3.4,True,9j,'python')\n",
        "print(tuple1)\n",
        "print(type(tuple1))"
      ],
      "metadata": {
        "colab": {
          "base_uri": "https://localhost:8080/"
        },
        "id": "WIQjuj1iYaod",
        "outputId": "7dd4b00b-491f-4725-8445-7ce1f476f53f"
      },
      "execution_count": null,
      "outputs": [
        {
          "output_type": "stream",
          "name": "stdout",
          "text": [
            "(2, 3.4, True, 9j, 'python')\n",
            "<class 'tuple'>\n"
          ]
        }
      ]
    },
    {
      "cell_type": "code",
      "source": [
        "y = list(tuple1)\n",
        "y[-1] = True\n",
        "print(y)\n",
        "y.append('Hey Jhilik')\n",
        "y = tuple(y)\n",
        "print(y)"
      ],
      "metadata": {
        "colab": {
          "base_uri": "https://localhost:8080/"
        },
        "id": "9UjzBRILZD1R",
        "outputId": "596b2ae0-00bc-434b-8e11-4e875fae16d3"
      },
      "execution_count": null,
      "outputs": [
        {
          "output_type": "stream",
          "name": "stdout",
          "text": [
            "[2, 3.4, True, 9j, True]\n",
            "(2, 3.4, True, 9j, True, 'Hey Jhilik')\n"
          ]
        }
      ]
    },
    {
      "cell_type": "code",
      "source": [
        "#Wap create one tuple and use append,pop, and clear method on a tuple\n",
        "tuple2 = (2,3.4,True,9j,'Asharam_Mahato')\n",
        "print(tuple2)\n",
        "print(type(tuple2))\n",
        "s = list(tuple2)\n",
        "s.append('Khelaram_Mahato ')\n",
        "print(s)\n",
        "s.pop(-5)\n",
        "print(s)\n",
        "s.clear()\n",
        "print(s)\n",
        "print(type(s))\n",
        "tuple2 = tuple(s)\n",
        "print(tuple2)\n",
        "print(type(tuple2))\n"
      ],
      "metadata": {
        "colab": {
          "base_uri": "https://localhost:8080/"
        },
        "id": "yxVGZNiEbD0D",
        "outputId": "91cfd2f0-f254-47e5-95ca-ea4ada3f2504"
      },
      "execution_count": null,
      "outputs": [
        {
          "output_type": "stream",
          "name": "stdout",
          "text": [
            "(2, 3.4, True, 9j, 'Asharam_Mahato')\n",
            "<class 'tuple'>\n",
            "[2, 3.4, True, 9j, 'Asharam_Mahato', 'Khelaram_Mahato ']\n",
            "[2, True, 9j, 'Asharam_Mahato', 'Khelaram_Mahato ']\n",
            "[]\n",
            "<class 'list'>\n",
            "()\n",
            "<class 'tuple'>\n"
          ]
        }
      ]
    },
    {
      "cell_type": "code",
      "source": [
        "#Set\n",
        "set1 = {2,3.4,True,9j,'python'}\n",
        "print(set1)\n",
        "print(type(set1))"
      ],
      "metadata": {
        "colab": {
          "base_uri": "https://localhost:8080/"
        },
        "id": "ILLh7JObd_Gi",
        "outputId": "7ecbdcdc-18fc-4f0a-b25b-d575dd02c33e"
      },
      "execution_count": null,
      "outputs": [
        {
          "output_type": "stream",
          "name": "stdout",
          "text": [
            "{True, 2, 3.4, 9j, 'python'}\n",
            "<class 'set'>\n"
          ]
        }
      ]
    },
    {
      "cell_type": "code",
      "source": [
        "# remove pop or popitem\n",
        "set1.remove(9j)\n",
        "print(set1)"
      ],
      "metadata": {
        "id": "Y1neGEtXg3yw",
        "colab": {
          "base_uri": "https://localhost:8080/"
        },
        "outputId": "15a15449-bed1-4bdd-ffdc-304ba75bc05f"
      },
      "execution_count": null,
      "outputs": [
        {
          "output_type": "stream",
          "name": "stdout",
          "text": [
            "{False, True, 2, 3.4, 'python'}\n"
          ]
        }
      ]
    },
    {
      "cell_type": "code",
      "source": [
        "#Wap adding 2 sets using update union\n",
        "set1 = {23, 34,45 }\n",
        "set2 = {False, 56,67,99, 'data'}\n",
        "set1.update(set2)\n",
        "print(set1)\n",
        "set3 = {89,78,67}\n",
        "set4 = set2.union(set3)\n",
        "print(set4)\n"
      ],
      "metadata": {
        "colab": {
          "base_uri": "https://localhost:8080/"
        },
        "id": "bFoJQKSupqgS",
        "outputId": "44b83fc6-db59-463d-808e-f59fe96ad44f"
      },
      "execution_count": null,
      "outputs": [
        {
          "output_type": "stream",
          "name": "stdout",
          "text": [
            "{False, 34, 99, 67, 'data', 45, 23, 56}\n",
            "{False, 99, 67, 'data', 56, 89, 78}\n"
          ]
        }
      ]
    },
    {
      "cell_type": "code",
      "source": [
        "#add 1 set & 1 tuple\n"
      ],
      "metadata": {
        "id": "7adIuDFNr6v0"
      },
      "execution_count": null,
      "outputs": []
    },
    {
      "cell_type": "code",
      "source": [
        "#dict\n",
        "dict1 = {\n",
        "    \"Student Name\": \"Chirashree\",\n",
        "    \"roll\": 11,\n",
        "    \"Sub\": \"DSA\",\n",
        "    \"Marks\": 90,\n",
        "    \"Passout year\": 2027\n",
        "}\n",
        "\n",
        "print(dict1)\n",
        "print(type(dict1))\n"
      ],
      "metadata": {
        "colab": {
          "base_uri": "https://localhost:8080/"
        },
        "id": "jh9-tKUvsL2W",
        "outputId": "7d9c3821-0fe3-4a93-d4ab-e4891803f270"
      },
      "execution_count": null,
      "outputs": [
        {
          "output_type": "stream",
          "name": "stdout",
          "text": [
            "{'Student Name': 'Chirashree', 'roll': 11, 'Sub': 'DSA', 'Marks': 90, 'Passout year': 2027}\n",
            "<class 'dict'>\n"
          ]
        }
      ]
    },
    {
      "cell_type": "code",
      "source": [
        "dict1 = {\n",
        "    \"Student Name\": \"Chirashree\",\n",
        "    \"roll\": 11,\n",
        "    \"Sub\": [\"DSA\", \"DAA\", \"Maths\"],\n",
        "    \"Marks\": 90,\n",
        "    \"Passout year\": 2027\n",
        "}\n",
        "\n",
        "print(dict1)\n",
        "print(type(dict1))\n"
      ],
      "metadata": {
        "colab": {
          "base_uri": "https://localhost:8080/"
        },
        "id": "3B7UQzlY0Iy6",
        "outputId": "accd4183-99ec-4626-8ed0-b576a3c36736"
      },
      "execution_count": null,
      "outputs": [
        {
          "output_type": "stream",
          "name": "stdout",
          "text": [
            "{'Student Name': 'Chirashree', 'roll': 11, 'Sub': ['DSA', 'DAA', 'Maths'], 'Marks': 90, 'Passout year': 2027}\n",
            "<class 'dict'>\n"
          ]
        }
      ]
    },
    {
      "cell_type": "code",
      "source": [
        "dict2 = {\n",
        "    \"Student Name\" : \"Rekha Mahato\",\n",
        "    \"Roll No\" : 184,\n",
        "    \"Subject\" : [\"DAA\", \"DSA\", \"OS\"] ,\n",
        "    \"Passing Year\" : 2027\n",
        "}\n",
        "dict2[\"Roll No\"] = 10\n",
        "dict2[\"Subject\"].append(\"Physics\")\n",
        "dict2[\"Country\"] = (\"India\")\n",
        "print(dict2)\n",
        "print(type(dict2))"
      ],
      "metadata": {
        "id": "1J7eArso1MYF",
        "colab": {
          "base_uri": "https://localhost:8080/"
        },
        "outputId": "4d723916-ae41-42c6-ef8f-88bb1bd3abb6"
      },
      "execution_count": null,
      "outputs": [
        {
          "output_type": "stream",
          "name": "stdout",
          "text": [
            "{'Student Name': 'Rekha Mahato', 'Roll No': 10, 'Subject': ['DAA', 'DSA', 'OS', 'Physics'], 'Passing Year': 2027, 'Country': 'India'}\n",
            "<class 'dict'>\n"
          ]
        }
      ]
    },
    {
      "cell_type": "code",
      "source": [
        "#Wap to create a dict, remove any item and use clear function to create empty dict\n",
        "dict = {\n",
        "    \"Student Name\": \"Chirashree\",\n",
        "    \"roll\": 11,\n",
        "    \"Sub\": [\"DSA\", \"DAA\", \"Maths\"],\n",
        "    \"Marks\": 90,\n",
        "    \"Passout year\": 2027\n",
        "}\n",
        "dict.pop(\"Passout year\")\n",
        "print(dict)\n",
        "dict.clear()\n",
        "print(dict)\n"
      ],
      "metadata": {
        "colab": {
          "base_uri": "https://localhost:8080/"
        },
        "id": "tcwmZPCOSCs5",
        "outputId": "b40b5764-ad29-4c36-d211-1b33bc15c552"
      },
      "execution_count": null,
      "outputs": [
        {
          "output_type": "stream",
          "name": "stdout",
          "text": [
            "{'Student Name': 'Chirashree', 'roll': 11, 'Sub': ['DSA', 'DAA', 'Maths'], 'Marks': 90}\n",
            "{}\n"
          ]
        }
      ]
    },
    {
      "cell_type": "code",
      "source": [
        "#loop\n",
        "for i in range(1,11):\n",
        "    print(i)"
      ],
      "metadata": {
        "colab": {
          "base_uri": "https://localhost:8080/"
        },
        "id": "9mjrf8B_XFnZ",
        "outputId": "7d09b216-1271-47ca-c0f8-386be361446b"
      },
      "execution_count": null,
      "outputs": [
        {
          "output_type": "stream",
          "name": "stdout",
          "text": [
            "1\n",
            "2\n",
            "3\n",
            "4\n",
            "5\n",
            "6\n",
            "7\n",
            "8\n",
            "9\n",
            "10\n"
          ]
        }
      ]
    },
    {
      "cell_type": "code",
      "source": [
        "#Skipping 2 numbers\n",
        "for i in range(1,11,2):\n",
        "    print(i)"
      ],
      "metadata": {
        "colab": {
          "base_uri": "https://localhost:8080/"
        },
        "id": "MWCrayUcYBA4",
        "outputId": "2534574b-440e-4d89-b323-900c1e08c791"
      },
      "execution_count": null,
      "outputs": [
        {
          "output_type": "stream",
          "name": "stdout",
          "text": [
            "1\n",
            "3\n",
            "5\n",
            "7\n",
            "9\n"
          ]
        }
      ]
    },
    {
      "cell_type": "code",
      "source": [
        "for i in range(10,0,-1):\n",
        "    print(i)"
      ],
      "metadata": {
        "colab": {
          "base_uri": "https://localhost:8080/"
        },
        "id": "fMhLNKXeYOCJ",
        "outputId": "ec529755-b984-4ceb-c00c-c43be778ba3c"
      },
      "execution_count": null,
      "outputs": [
        {
          "output_type": "stream",
          "name": "stdout",
          "text": [
            "10\n",
            "9\n",
            "8\n",
            "7\n",
            "6\n",
            "5\n",
            "4\n",
            "3\n",
            "2\n",
            "1\n"
          ]
        }
      ]
    },
    {
      "cell_type": "code",
      "source": [
        "for i in range(1,11,5):\n",
        "    print(i)"
      ],
      "metadata": {
        "colab": {
          "base_uri": "https://localhost:8080/"
        },
        "id": "islMCJ25Y_07",
        "outputId": "8133871e-3624-4bbb-d79b-833a3ba1f485"
      },
      "execution_count": null,
      "outputs": [
        {
          "output_type": "stream",
          "name": "stdout",
          "text": [
            "1\n",
            "6\n"
          ]
        }
      ]
    },
    {
      "cell_type": "code",
      "source": [
        "#for Loop to print first 10 number's sum\n",
        "sum = 0\n",
        "for i in range(1 , 11) :\n",
        "    sum = sum + i\n",
        "print(f\"The sum of first 10 numbers is :{sum}\")\n"
      ],
      "metadata": {
        "colab": {
          "base_uri": "https://localhost:8080/"
        },
        "id": "xSgqRDUdZmc_",
        "outputId": "235aef0f-2439-4297-ea91-234f843e9a9d"
      },
      "execution_count": null,
      "outputs": [
        {
          "output_type": "stream",
          "name": "stdout",
          "text": [
            "The sum of first 10 numbers is :55\n"
          ]
        }
      ]
    },
    {
      "cell_type": "code",
      "source": [
        "for i in dict2.items() :\n",
        "  print(i)"
      ],
      "metadata": {
        "colab": {
          "base_uri": "https://localhost:8080/"
        },
        "id": "HxaPKJLlb8Ua",
        "outputId": "5ff8ed0e-da0d-47d6-ff10-27adf48f60b3"
      },
      "execution_count": null,
      "outputs": [
        {
          "output_type": "stream",
          "name": "stdout",
          "text": [
            "('Student Name', 'Rekha Mahato')\n",
            "('Roll No', 10)\n",
            "('Subject', ['DAA', 'DSA', 'OS', 'Physics'])\n",
            "('Passing Year', 2027)\n",
            "('Country', 'India')\n"
          ]
        }
      ]
    },
    {
      "cell_type": "code",
      "source": [
        "#Print first 10 natural number's summation using while loop\n",
        "#Print first 10 natural number's summation using while loop\n",
        "sum = 0\n",
        "i = 1\n",
        "while i <= 10:\n",
        "\n",
        "    i += 1\n",
        "    sum = sum + i\n",
        "print(f\"Sum of first 10 natural number is : {sum}\")\n"
      ],
      "metadata": {
        "colab": {
          "base_uri": "https://localhost:8080/"
        },
        "id": "hJqVdmbqcp4K",
        "outputId": "27cd664a-f2d9-4745-8239-1d5c8706ce94"
      },
      "execution_count": null,
      "outputs": [
        {
          "output_type": "stream",
          "name": "stdout",
          "text": [
            "Sum of first 10 natural number is : 65\n"
          ]
        }
      ]
    },
    {
      "cell_type": "code",
      "source": [
        "#Wap to check the number is palindrome or not using while loop\n",
        "\n",
        "#Wap to check the number is palindrome or not using while loop\n",
        "x = int(input(\"Enter a number: \"))\n",
        "Num = x;\n",
        "rev_num = 0\n",
        "while Num > 0 :\n",
        "  digit = Num % 10\n",
        "  rev_num = rev_num *10 + digit\n",
        "  x = x / 10\n",
        "\n",
        "if Num == rev_num :\n",
        "    print(f\"{Num} is a Palindrome number\")\n",
        "else :\n",
        "    print(f\"{Num} is not a palindrome number\")\n",
        "\n"
      ],
      "metadata": {
        "id": "HfhRs-6HfLjV",
        "colab": {
          "base_uri": "https://localhost:8080/"
        },
        "outputId": "422f0e3e-117a-4cc4-f6a6-f052c0bb18cc"
      },
      "execution_count": null,
      "outputs": [
        {
          "name": "stdout",
          "output_type": "stream",
          "text": [
            "Enter a number: 232\n"
          ]
        }
      ]
    },
    {
      "cell_type": "code",
      "source": [
        "# Input number from the user\n",
        "num = int(input(\"Enter a number: \"))\n",
        "original_number = num\n",
        "reversed_number = 0\n",
        "\n",
        "# Reverse the number using a while loop\n",
        "while num > 0:\n",
        "    digit = num % 10\n",
        "    reversed_number = reversed_number * 10 + digit\n",
        "    num = num // 10\n",
        "\n",
        "# Check if the original number and reversed number are the same\n",
        "if original_number == reversed_number:\n",
        "    print(f\"{original_number} is a palindrome.\")\n",
        "else:\n",
        "    print(f\"{original_number} is not a palindrome.\")\n"
      ],
      "metadata": {
        "id": "2r6pSAku93Wb"
      },
      "execution_count": null,
      "outputs": []
    },
    {
      "cell_type": "code",
      "source": [
        "#PATTERN\n",
        "for i in range(1,6) :\n",
        "  print(\"*\"*i)"
      ],
      "metadata": {
        "colab": {
          "base_uri": "https://localhost:8080/"
        },
        "id": "ZwSePb_mC40L",
        "outputId": "72f0bf32-0cbd-4ab1-ffd7-9ae0ed052ad6"
      },
      "execution_count": 23,
      "outputs": [
        {
          "output_type": "stream",
          "name": "stdout",
          "text": [
            "*\n",
            "**\n",
            "***\n",
            "****\n",
            "*****\n"
          ]
        }
      ]
    },
    {
      "cell_type": "code",
      "source": [
        "for i in range(6,0,-1) :\n",
        "  print(\"*\"*i)"
      ],
      "metadata": {
        "id": "VVqAMUhkGchC"
      },
      "execution_count": null,
      "outputs": []
    }
  ]
}